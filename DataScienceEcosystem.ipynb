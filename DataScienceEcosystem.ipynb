{
  "metadata": {
    "kernelspec": {
      "name": "python",
      "display_name": "Python (Pyodide)",
      "language": "python"
    },
    "language_info": {
      "codemirror_mode": {
        "name": "python",
        "version": 3
      },
      "file_extension": ".py",
      "mimetype": "text/x-python",
      "name": "python",
      "nbconvert_exporter": "python",
      "pygments_lexer": "ipython3",
      "version": "3.8"
    }
  },
  "nbformat_minor": 5,
  "nbformat": 4,
  "cells": [
    {
      "id": "9a92c5bf-3024-4065-be37-bcd39303e2c3",
      "cell_type": "markdown",
      "source": "# Data Science Tools and Ecosystem",
      "metadata": {}
    },
    {
      "id": "13e69255-684f-4a07-abcb-148f9404ca4c",
      "cell_type": "markdown",
      "source": "In this notebook, Data Science Tools and Ecosystem are summarized.",
      "metadata": {}
    },
    {
      "id": "984e76aa-e77e-4f23-8025-9fa3c9659149",
      "cell_type": "markdown",
      "source": "**Objectives:**\nSome of the key takeaways from the course are:\n- List the popular languages for Data Scientists\n- Common Libraries used by Data Scientists\n- Open Source Data Science Tools\n- Examples of evaluating arithmetic expressions in Python",
      "metadata": {}
    },
    {
      "id": "106880d8-0e66-48b7-9e20-e454b1c63a73",
      "cell_type": "markdown",
      "source": "Some of the popular languages that Data Scientists use are:\n1. Pyhton\n2. R\n3. SQL\n4. Scala\n5. C++",
      "metadata": {}
    },
    {
      "id": "c7c68dcf-3568-4b78-a77e-ca5440209aaf",
      "cell_type": "markdown",
      "source": "Some of the commonly used libraries used by Data Scientists include:\n1. Mathplotlib\n2. NumPy\n3. Pandas\n4. Keras\n5. Scikit-learn",
      "metadata": {}
    },
    {
      "id": "f3cfd046-82b9-4f32-aaa2-f151042593ee",
      "cell_type": "markdown",
      "source": "|Data Science Tools|\n|------------------|\n|Hadoop            |\n|RStudio           |\n|Apache Spark      |\n|TensorFlow        |",
      "metadata": {}
    },
    {
      "id": "edbc0110-8491-409d-9d6b-f4edd3604b94",
      "cell_type": "markdown",
      "source": "### Below are a few examples of evaluating arithmetic expressions in Python",
      "metadata": {}
    },
    {
      "id": "19d13457-0d2b-4bcf-b60b-4acc114c2559",
      "cell_type": "code",
      "source": "# This a simple arithmetic expression to mutiply then add integers\n(3*4)+5",
      "metadata": {
        "trusted": true
      },
      "outputs": [
        {
          "execution_count": 2,
          "output_type": "execute_result",
          "data": {
            "text/plain": "17"
          },
          "metadata": {}
        }
      ],
      "execution_count": 2
    },
    {
      "id": "4ea95a2a-ea65-4293-b707-e70d186ac3d3",
      "cell_type": "code",
      "source": "# This will convert 200 minutes to hours by diving by 60.\n200 / 60",
      "metadata": {
        "trusted": true
      },
      "outputs": [
        {
          "execution_count": 3,
          "output_type": "execute_result",
          "data": {
            "text/plain": "3.3333333333333335"
          },
          "metadata": {}
        }
      ],
      "execution_count": 3
    },
    {
      "id": "7b2ffd35-0187-45d4-b21b-83b5586c7953",
      "cell_type": "markdown",
      "source": "## Author\nKrishna Abhinav",
      "metadata": {}
    },
    {
      "id": "d9a57a43-9d7e-46d4-9519-e55fdb6f53eb",
      "cell_type": "markdown",
      "source": "## Author\nKrishna Abhinav",
      "metadata": {}
    }
  ]
}